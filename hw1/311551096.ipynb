{
 "cells": [
  {
   "cell_type": "code",
   "execution_count": 5,
   "metadata": {},
   "outputs": [],
   "source": [
    "import numpy as np\n",
    "from PIL import Image\n",
    "# Output 8 grayscale images representing R, G, B, Y, U, V, Cb, Cr, respectively"
   ]
  },
  {
   "cell_type": "code",
   "execution_count": 6,
   "metadata": {},
   "outputs": [],
   "source": [
    "img = Image.open('lena.png')\n",
    "data = np.asarray(img)"
   ]
  },
  {
   "cell_type": "code",
   "execution_count": 7,
   "metadata": {},
   "outputs": [],
   "source": [
    "R = data[:,:,0]\n",
    "G = data[:,:,1]\n",
    "B = data[:,:,2]\n",
    "Image.fromarray(R).save('lena_R.png')\n",
    "Image.fromarray(G).save('lena_G.png')\n",
    "Image.fromarray(B).save('lena_B.png')"
   ]
  },
  {
   "cell_type": "code",
   "execution_count": 8,
   "metadata": {},
   "outputs": [],
   "source": [
    "Y = R *  0.299 + G *  0.587 + B *  0.114\n",
    "U = R * -0.169 + G * -0.331 + B *  0.500 + 128.\n",
    "V = R *  0.500 + G * -0.419 + B * -0.081 + 128.\n",
    "Image.fromarray(np.uint8(Y)).save('lena_Y.png')\n",
    "Image.fromarray(np.uint8(U)).save('lena_U.png')\n",
    "Image.fromarray(np.uint8(V)).save('lena_V.png')"
   ]
  },
  {
   "cell_type": "code",
   "execution_count": 9,
   "metadata": {},
   "outputs": [],
   "source": [
    "Cb = R * -0.168736 + G * -0.331264 + B *  0.500000 + 128\n",
    "Cr = R *  0.500000 + G * -0.418688 + B * -0.081312 + 128\n",
    "Image.fromarray(np.uint8(Cb)).save('lena_Cb.png')\n",
    "Image.fromarray(np.uint8(Cr)).save('lena_Cr.png')"
   ]
  }
 ],
 "metadata": {
  "kernelspec": {
   "display_name": "lab",
   "language": "python",
   "name": "python3"
  },
  "language_info": {
   "codemirror_mode": {
    "name": "ipython",
    "version": 3
   },
   "file_extension": ".py",
   "mimetype": "text/x-python",
   "name": "python",
   "nbconvert_exporter": "python",
   "pygments_lexer": "ipython3",
   "version": "3.7.0"
  },
  "orig_nbformat": 4,
  "vscode": {
   "interpreter": {
    "hash": "ce7028bb547c07556a5b2f9144357b205a844d6217cc0ac760b26566d4ecce00"
   }
  }
 },
 "nbformat": 4,
 "nbformat_minor": 2
}
