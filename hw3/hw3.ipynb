{
 "cells": [
  {
   "cell_type": "code",
   "execution_count": 44,
   "metadata": {},
   "outputs": [],
   "source": [
    "import numpy as np\n",
    "import matplotlib.pyplot as plt\n",
    "from PIL import Image"
   ]
  },
  {
   "cell_type": "code",
   "execution_count": 45,
   "metadata": {},
   "outputs": [],
   "source": [
    "def traverseZigZag(i_offset, j_offset):\n",
    "\n",
    "    up = 1\n",
    "    i  = 0\n",
    "    j  = 0\n",
    "    m  = 8\n",
    "    n  = 8\n",
    "\n",
    "    for h in range(i+i_offset, i+i_offset+8):\n",
    "        for w in range(j+j_offset, j+j_offset+8):\n",
    "            print(f\"({h},{w}) \", end='')\n",
    "        print('')\n",
    "    print('')\n",
    "\n",
    "    turned = False\n",
    "    d      = [ [ 1, -1 ], [ -1, 1 ] ]\n",
    "    corner = [ [ 1, 0, 0, 1 ], [ 0, 1, 1, 0 ] ]\n",
    "    while (i < m and j < n):\n",
    "        \n",
    "        # here you have your (i,j), do what you want with them.\n",
    "\n",
    "        print(f\"({i+i_offset},{j+j_offset})\")\n",
    "        if (i == 0 or j == 0 or i == m - 1 or j == n - 1) :\n",
    "            if (not turned):\n",
    "                k = 2 * (int(up * (j / (n - 1))) | int((1 - up) * (i / (m - 1))))\n",
    "                i += corner[up][k]\n",
    "                j += corner[up][k + 1]\n",
    "                turned = True\n",
    "                up = 1 - up\n",
    "                continue\n",
    "            else:\n",
    "                turned = False\n",
    "\n",
    "        i += d[up][0]\n",
    "        j += d[up][1]\n",
    "    "
   ]
  },
  {
   "cell_type": "code",
   "execution_count": 54,
   "metadata": {},
   "outputs": [
    {
     "data": {
      "text/plain": [
       "1.914306877197984"
      ]
     },
     "execution_count": 54,
     "metadata": {},
     "output_type": "execute_result"
    }
   ],
   "source": [
    "dct_1d  = np.load('dct_1d.npy')\n",
    "dct_1d[155][155]"
   ]
  }
 ],
 "metadata": {
  "kernelspec": {
   "display_name": "lab",
   "language": "python",
   "name": "python3"
  },
  "language_info": {
   "codemirror_mode": {
    "name": "ipython",
    "version": 3
   },
   "file_extension": ".py",
   "mimetype": "text/x-python",
   "name": "python",
   "nbconvert_exporter": "python",
   "pygments_lexer": "ipython3",
   "version": "3.7.0"
  },
  "orig_nbformat": 4
 },
 "nbformat": 4,
 "nbformat_minor": 2
}
